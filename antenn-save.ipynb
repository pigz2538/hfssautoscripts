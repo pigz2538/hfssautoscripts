{
 "cells": [
  {
   "cell_type": "code",
   "execution_count": 1,
   "id": "9239579f",
   "metadata": {},
   "outputs": [],
   "source": [
    "import os\n",
    "import time\n",
    "\n",
    "import ansys.aedt.core\n",
    "from ansys.aedt.core.modeler.advanced_cad.stackup_3d import Stackup3D"
   ]
  },
  {
   "cell_type": "markdown",
   "id": "477e23a1",
   "metadata": {},
   "source": [
    "## Open HFSS"
   ]
  },
  {
   "cell_type": "code",
   "execution_count": 2,
   "id": "0f50c60c",
   "metadata": {},
   "outputs": [
    {
     "name": "stdout",
     "output_type": "stream",
     "text": [
      "PyAEDT INFO: Parsing E:/HFSS/projects_backup/patch1.aedt.\n",
      "PyAEDT INFO: Python version 3.10.18 | packaged by Anaconda, Inc. | (main, Jun  5 2025, 13:08:55) [MSC v.1929 64 bit (AMD64)].\n",
      "PyAEDT INFO: PyAEDT version 0.18.0.\n",
      "PyAEDT INFO: File E:/HFSS/projects_backup/patch1.aedt correctly loaded. Elapsed time: 0m 0sec\n",
      "PyAEDT INFO: Initializing new Desktop session.\n",
      "PyAEDT INFO: Log on console is enabled.\n",
      "PyAEDT INFO: Log on file C:\\Users\\z2538\\AppData\\Local\\Temp\\pyaedt_z2538_8a758b86-bb72-4836-8980-88b0d1a7a712.log is enabled.\n",
      "PyAEDT INFO: Log on AEDT is disabled.\n",
      "PyAEDT INFO: Debug logger is disabled. PyAEDT methods will not be logged.\n",
      "PyAEDT INFO: Launching PyAEDT with gRPC plugin.\n",
      "PyAEDT INFO: New AEDT session is starting on gRPC port 9602.\n",
      "PyAEDT INFO: Electronics Desktop started on gRPC port: 9602 after 8.297650575637817 seconds.\n",
      "PyAEDT INFO: AEDT installation Path D:\\Program\\ANSYS Inc\\v252\\AnsysEM\n",
      "PyAEDT INFO: Ansoft.ElectronicsDesktop.2025.2 version started with process ID 23472.\n",
      "PyAEDT INFO: Project patch1 has been opened.\n",
      "PyAEDT INFO: Active Design set to HFSSDesign1\n",
      "PyAEDT INFO: Aedt Objects correctly read\n"
     ]
    }
   ],
   "source": [
    "project_path = \"E:/HFSS/projects_backup/patch1.aedt\" \n",
    "design_name = \"HFSSDesign1\"\n",
    "setup_name = \"Setup1\"\n",
    "output_dir = \"E:/HFSS/temp/aedt_ml_data/\"\n",
    "\n",
    "if not os.path.exists(output_dir):\n",
    "    os.makedirs(output_dir)\n",
    "\n",
    "hfss = ansys.aedt.core.Hfss(\n",
    "    project=project_path,\n",
    "    design=design_name,\n",
    "    non_graphical=False,\n",
    "    new_desktop=False\n",
    ")"
   ]
  },
  {
   "cell_type": "markdown",
   "id": "b83f4f82",
   "metadata": {},
   "source": [
    "## Export .step"
   ]
  },
  {
   "cell_type": "code",
   "execution_count": null,
   "id": "0fe88da6",
   "metadata": {},
   "outputs": [
    {
     "name": "stdout",
     "output_type": "stream",
     "text": [
      "PyAEDT INFO: Modeler class has been initialized! Elapsed time: 0m 0sec\n"
     ]
    },
    {
     "data": {
      "text/plain": [
       "True"
      ]
     },
     "execution_count": 3,
     "metadata": {},
     "output_type": "execute_result"
    }
   ],
   "source": [
    "geometry_path = os.path.join(output_dir, \"geometry.step\")\n",
    "\n",
    "hfss.modeler.export_3d_model(file_name=\"geometry\", file_path=output_dir, file_format='.step')"
   ]
  },
  {
   "cell_type": "markdown",
   "id": "042c9a0c",
   "metadata": {},
   "source": [
    "## Export S-Parameters"
   ]
  },
  {
   "cell_type": "code",
   "execution_count": 4,
   "id": "15a25b8f",
   "metadata": {},
   "outputs": [
    {
     "name": "stdout",
     "output_type": "stream",
     "text": [
      "PyAEDT INFO: PostProcessor class has been initialized! Elapsed time: 0m 0sec\n",
      "PyAEDT INFO: PostProcessor class has been initialized! Elapsed time: 0m 0sec\n",
      "PyAEDT INFO: Post class has been initialized! Elapsed time: 0m 0sec\n",
      "PyAEDT INFO: Solution Data Correctly Loaded.\n"
     ]
    },
    {
     "data": {
      "text/plain": [
       "True"
      ]
     },
     "execution_count": 4,
     "metadata": {},
     "output_type": "execute_result"
    }
   ],
   "source": [
    "s_param_path = os.path.join(output_dir, \"s_parameters.csv\")\n",
    "\n",
    "post = hfss.post\n",
    "solution = post.get_solution_data(\"dB(S(1,1))\")\n",
    "solution.export_data_to_csv(s_param_path, delimiter=',')\n"
   ]
  },
  {
   "cell_type": "markdown",
   "id": "76b686fd",
   "metadata": {},
   "source": [
    "## Export Field"
   ]
  },
  {
   "cell_type": "markdown",
   "id": "cec60c90",
   "metadata": {},
   "source": [
    "It's hard to export the mesh directly to a file, so we choose to export field data first and then convert it to a mesh in plot script using pyvista."
   ]
  },
  {
   "cell_type": "code",
   "execution_count": null,
   "id": "5743f96d",
   "metadata": {},
   "outputs": [],
   "source": [
    "mesh_csv_path = os.path.join(output_dir, \"mesh_data.csv\")\n",
    "fld_path = os.path.join(output_dir, \"surface_field_export.fld\")"
   ]
  },
  {
   "cell_type": "code",
   "execution_count": 34,
   "id": "5e4f3293",
   "metadata": {},
   "outputs": [
    {
     "name": "stdout",
     "output_type": "stream",
     "text": [
      "PyAEDT INFO: Exporting 'Mag_E' field. Please be patient.\n"
     ]
    }
   ],
   "source": [
    "success = hfss.post.export_field_file(\n",
    "    quantity=\"Mag_E\",\n",
    "    solution=hfss.nominal_adaptive,\n",
    "    output_file=fld_path,\n",
    "    assignment=\"50ohm\",\n",
    "    objects_type=\"Surf\"\n",
    ")"
   ]
  },
  {
   "cell_type": "markdown",
   "id": "bf6d8cbc",
   "metadata": {},
   "source": [
    "## Close HFSS"
   ]
  },
  {
   "cell_type": "code",
   "execution_count": 35,
   "id": "9f1fc24b",
   "metadata": {},
   "outputs": [
    {
     "name": "stdout",
     "output_type": "stream",
     "text": [
      "PyAEDT INFO: Desktop has been released and closed.\n"
     ]
    },
    {
     "data": {
      "text/plain": [
       "True"
      ]
     },
     "execution_count": 35,
     "metadata": {},
     "output_type": "execute_result"
    }
   ],
   "source": [
    "hfss.release_desktop(close_projects=True, close_desktop=True)"
   ]
  }
 ],
 "metadata": {
  "kernelspec": {
   "display_name": "hfss",
   "language": "python",
   "name": "python3"
  },
  "language_info": {
   "codemirror_mode": {
    "name": "ipython",
    "version": 3
   },
   "file_extension": ".py",
   "mimetype": "text/x-python",
   "name": "python",
   "nbconvert_exporter": "python",
   "pygments_lexer": "ipython3",
   "version": "3.10.18"
  }
 },
 "nbformat": 4,
 "nbformat_minor": 5
}
