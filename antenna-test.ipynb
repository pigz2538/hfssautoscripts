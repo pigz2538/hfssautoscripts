{
 "cells": [
  {
   "cell_type": "code",
   "execution_count": 54,
   "id": "7f7e631b",
   "metadata": {},
   "outputs": [],
   "source": [
    "import os\n",
    "import tempfile\n",
    "import time\n",
    "\n",
    "import ansys.aedt.core\n",
    "from ansys.aedt.core.modeler.advanced_cad.stackup_3d import Stackup3D"
   ]
  },
  {
   "cell_type": "code",
   "execution_count": 55,
   "id": "fcfc1123",
   "metadata": {},
   "outputs": [],
   "source": [
    "AEDT_VERSION = \"2025.2\"\n",
    "NUM_CORES = 16\n",
    "NG_MODE = False  # Open AEDT UI when it is launched."
   ]
  },
  {
   "cell_type": "markdown",
   "id": "e5836d17",
   "metadata": {},
   "source": [
    "## Create temporary directory"
   ]
  },
  {
   "cell_type": "code",
   "execution_count": 56,
   "id": "5a8989a0",
   "metadata": {},
   "outputs": [],
   "source": [
    "temp_folder = tempfile.TemporaryDirectory(suffix=\".ansys\")"
   ]
  },
  {
   "cell_type": "code",
   "execution_count": 57,
   "id": "05da9fca",
   "metadata": {},
   "outputs": [
    {
     "name": "stdout",
     "output_type": "stream",
     "text": [
      "PyAEDT INFO: Python version 3.10.18 | packaged by Anaconda, Inc. | (main, Jun  5 2025, 13:08:55) [MSC v.1929 64 bit (AMD64)].\n",
      "PyAEDT INFO: PyAEDT version 0.18.0.\n",
      "PyAEDT INFO: Initializing new Desktop session.\n",
      "PyAEDT INFO: Log on console is enabled.\n",
      "PyAEDT INFO: Log on file C:\\Users\\z2538\\AppData\\Local\\Temp\\pyaedt_z2538_a389e4ea-b179-4c40-a0c6-a747a05b05f3.log is enabled.\n",
      "PyAEDT INFO: Log on AEDT is enabled.\n",
      "PyAEDT INFO: Debug logger is disabled. PyAEDT methods will not be logged.\n",
      "PyAEDT INFO: Launching PyAEDT with gRPC plugin.\n",
      "PyAEDT INFO: New AEDT session is starting on gRPC port 6495.\n",
      "PyAEDT INFO: Electronics Desktop started on gRPC port: 6495 after 8.760507345199585 seconds.\n",
      "PyAEDT INFO: AEDT installation Path D:\\Program\\ANSYS Inc\\v252\\AnsysEM\n",
      "PyAEDT INFO: Ansoft.ElectronicsDesktop.2025.2 version started with process ID 33248.\n",
      "PyAEDT INFO: Project patch has been created.\n",
      "PyAEDT INFO: Added design 'patch' of type HFSS.\n",
      "PyAEDT INFO: Aedt Objects correctly read\n"
     ]
    }
   ],
   "source": [
    "project_name = os.path.join(temp_folder.name, \"patch.aedt\")\n",
    "hfss = ansys.aedt.core.Hfss(\n",
    "    project=project_name,\n",
    "    solution_type=\"Model\",\n",
    "    design=\"patch\",\n",
    "    non_graphical=NG_MODE,\n",
    "    new_desktop=False,\n",
    "    version=AEDT_VERSION,\n",
    ")"
   ]
  },
  {
   "cell_type": "code",
   "execution_count": 58,
   "id": "d1adb168",
   "metadata": {},
   "outputs": [
    {
     "name": "stdout",
     "output_type": "stream",
     "text": [
      "PyAEDT INFO: Modeler class has been initialized! Elapsed time: 0m 0sec\n",
      "PyAEDT WARNING: No objects to delete\n"
     ]
    },
    {
     "data": {
      "text/plain": [
       "False"
      ]
     },
     "execution_count": 58,
     "metadata": {},
     "output_type": "execute_result"
    }
   ],
   "source": [
    "hfss.modeler.delete()"
   ]
  },
  {
   "cell_type": "markdown",
   "id": "497d2a3f",
   "metadata": {},
   "source": [
    "## Specify units and coordinates"
   ]
  },
  {
   "cell_type": "code",
   "execution_count": 59,
   "id": "93271360",
   "metadata": {},
   "outputs": [
    {
     "data": {
      "text/plain": [
       "True"
      ]
     },
     "execution_count": 59,
     "metadata": {},
     "output_type": "execute_result"
    }
   ],
   "source": [
    "length_units = \"mm\"\n",
    "freq_units = \"GHz\"\n",
    "hfss.modeler.model_units = length_units\n",
    "\n",
    "planexy = ansys.aedt.core.constants.Plane.XY\n",
    "planezx = ansys.aedt.core.constants.Plane.ZX\n",
    "planeyz = ansys.aedt.core.constants.Plane.YZ\n",
    "\n",
    "hfss.modeler.set_working_coordinate_system(\"Global\")"
   ]
  },
  {
   "cell_type": "markdown",
   "id": "cfbad392",
   "metadata": {},
   "source": [
    "## Define constants"
   ]
  },
  {
   "cell_type": "code",
   "execution_count": 60,
   "id": "cd5fe4f9",
   "metadata": {},
   "outputs": [],
   "source": [
    "H = 1.6\n",
    "L0 = 30\n",
    "W0 = 37.26\n",
    "L1 = 17.45\n",
    "W1 = 1.16\n",
    "L2 = 15\n",
    "W2 = 2.98"
   ]
  },
  {
   "cell_type": "code",
   "execution_count": 61,
   "id": "072b97bd",
   "metadata": {},
   "outputs": [],
   "source": [
    "substrate_origin    = [-L0, -W0, 0]\n",
    "substrate_size      = [1.5*L0+L1+L2, 2*W0, H]\n",
    "substrate_material  = 'FR4_epoxy'"
   ]
  },
  {
   "cell_type": "code",
   "execution_count": 62,
   "id": "bec0ff30",
   "metadata": {},
   "outputs": [],
   "source": [
    "air_origin    = [-L0*0.5-30, -W0*0.5-30, 0]\n",
    "air_size      = [L0+L1+L2+30, W0+60, H+30]\n",
    "air_mateiral  = 'vacuum'"
   ]
  },
  {
   "cell_type": "code",
   "execution_count": 63,
   "id": "e04ded26",
   "metadata": {},
   "outputs": [],
   "source": [
    "tline_origin       = [0.5*L0, -0.5*W1, H]\n",
    "tline_size         = [L1, W1]\n",
    "tline_orientation  = planexy\n",
    "\n",
    "patch_origin       = [-0.5*L0, -0.5*W0, H]\n",
    "patch_size         = [L0, W0]\n",
    "patch_orientation  = planexy\n",
    "\n",
    "ohm50_origin       = [0.5*L0+L1, -0.5*W2, H]\n",
    "ohm50_size         = [L2, W2]\n",
    "ohm50_orientation  = planexy\n",
    "\n",
    "wave_port_origin   = [0.5*L0+L1+L2, -4*W2, 0]\n",
    "wave_port_size     = [8*W2, 8*H]\n",
    "wave_port_orientation = planeyz"
   ]
  },
  {
   "cell_type": "markdown",
   "id": "66a649c8",
   "metadata": {},
   "source": [
    "## Start"
   ]
  },
  {
   "cell_type": "code",
   "execution_count": 64,
   "id": "5799026a",
   "metadata": {},
   "outputs": [
    {
     "name": "stdout",
     "output_type": "stream",
     "text": [
      "PyAEDT WARNING: No objects to delete\n"
     ]
    },
    {
     "data": {
      "text/plain": [
       "False"
      ]
     },
     "execution_count": 64,
     "metadata": {},
     "output_type": "execute_result"
    }
   ],
   "source": [
    "modeler = hfss.modeler\n",
    "hfss.modeler.delete()"
   ]
  },
  {
   "cell_type": "markdown",
   "id": "bceba2e4",
   "metadata": {},
   "source": [
    "## Create models"
   ]
  },
  {
   "cell_type": "code",
   "execution_count": 65,
   "id": "c4a146ff",
   "metadata": {},
   "outputs": [
    {
     "name": "stdout",
     "output_type": "stream",
     "text": [
      "PyAEDT INFO: Materials class has been initialized! Elapsed time: 0m 0sec\n"
     ]
    }
   ],
   "source": [
    "substrate  = modeler.create_box(origin=substrate_origin, sizes=substrate_size, name='substrate', material=substrate_material)\n",
    "airbox     = modeler.create_box(origin=air_origin, sizes=air_size, name='airbox', material=air_mateiral)"
   ]
  },
  {
   "cell_type": "code",
   "execution_count": 66,
   "id": "48daae72",
   "metadata": {},
   "outputs": [],
   "source": [
    "tline     = modeler.create_rectangle(orientation=tline_orientation, origin=tline_origin, sizes=tline_size, name='tline')\n",
    "patch     = modeler.create_rectangle(orientation=patch_orientation, origin=patch_origin, sizes=patch_size, name='patch')\n",
    "ohm50     = modeler.create_rectangle(orientation=ohm50_orientation, origin=ohm50_origin, sizes=ohm50_size, name='ohm50')\n",
    "wave_port = modeler.create_rectangle(orientation=wave_port_orientation, origin=wave_port_origin, sizes=wave_port_size, name='wave_port')"
   ]
  },
  {
   "cell_type": "code",
   "execution_count": 67,
   "id": "a2d0853a",
   "metadata": {},
   "outputs": [
    {
     "name": "stdout",
     "output_type": "stream",
     "text": [
      "PyAEDT INFO: Parsing design objects. This operation can take time\n",
      "PyAEDT INFO: Refreshing bodies from Object Info\n",
      "PyAEDT INFO: Bodies Info Refreshed Elapsed time: 0m 0sec\n",
      "PyAEDT INFO: 3D Modeler objects parsed. Elapsed time: 0m 0sec\n",
      "PyAEDT INFO: Union of 3 objects has been executed.\n"
     ]
    }
   ],
   "source": [
    "antenna = modeler.unite([tline, patch, ohm50])"
   ]
  },
  {
   "cell_type": "markdown",
   "id": "13f2b715",
   "metadata": {},
   "source": [
    "## Assign boundary"
   ]
  },
  {
   "cell_type": "code",
   "execution_count": 68,
   "id": "67fcfc3c",
   "metadata": {},
   "outputs": [
    {
     "name": "stdout",
     "output_type": "stream",
     "text": [
      "PyAEDT INFO: Boundary Perfect E PerfectE_tline has been created.\n",
      "PyAEDT INFO: Boundary Wave Port wave_port has been created.\n",
      "PyAEDT INFO: Boundary Radiation air_radiation has been created.\n"
     ]
    },
    {
     "data": {
      "text/plain": [
       "<ansys.aedt.core.modules.boundary.common.BoundaryObject at 0x12d8af49a20>"
      ]
     },
     "execution_count": 68,
     "metadata": {},
     "output_type": "execute_result"
    }
   ],
   "source": [
    "hfss.assign_perfect_e(assignment=antenna)\n",
    "hfss.wave_port(assignment=wave_port, name='wave_port')\n",
    "hfss.assign_radiation_boundary_to_objects(assignment=airbox, name='air_radiation')"
   ]
  },
  {
   "cell_type": "code",
   "execution_count": 69,
   "id": "c26125f3",
   "metadata": {},
   "outputs": [
    {
     "name": "stdout",
     "output_type": "stream",
     "text": [
      "PyAEDT INFO: Boundary Perfect E PerfectE_substrate has been created.\n"
     ]
    }
   ],
   "source": [
    "bottom_face_id = -1\n",
    "min_z = 1e9\n",
    "\n",
    "# Find the top face\n",
    "for face in substrate.faces:\n",
    "    face_center = face.center\n",
    "    if face_center[2] < min_z:\n",
    "        min_z = face_center[2]\n",
    "        bottom_face_id = face.id\n",
    "\n",
    "if bottom_face_id == -1:\n",
    "    print(\"No top face found\")\n",
    "else:\n",
    "    hfss.assign_perfect_e(assignment=[bottom_face_id], name='PerfectE_substrate')"
   ]
  },
  {
   "cell_type": "markdown",
   "id": "d878b3f0",
   "metadata": {},
   "source": [
    "## Define setup"
   ]
  },
  {
   "cell_type": "code",
   "execution_count": 70,
   "id": "6c23fd0b",
   "metadata": {},
   "outputs": [],
   "source": [
    "solution_name = 'Setup1'\n",
    "\n",
    "basic = {'name': solution_name,\n",
    "         'Frequency': '2.45GHz',\n",
    "         'MaximumPasses': 20,\n",
    "         'MaxDeltaS': 0.02}\n",
    "\n",
    "sweep1 = {'name': 'Sweep1',\n",
    "          'unit': 'GHz',\n",
    "          'start_frequency': 1.5,\n",
    "          'stop_frequency': 3.5,\n",
    "          'step_size':0.01,\n",
    "          \"sweep_type\": \"Interpolating\",\n",
    "          'save_fields': True}\n"
   ]
  },
  {
   "cell_type": "code",
   "execution_count": 71,
   "id": "dac5bd65",
   "metadata": {},
   "outputs": [
    {
     "name": "stdout",
     "output_type": "stream",
     "text": [
      "PyAEDT INFO: Parsing C:/Users/z2538/AppData/Local/Temp/tmp6dyss27x.ansys/patch.aedt.\n",
      "PyAEDT INFO: File C:/Users/z2538/AppData/Local/Temp/tmp6dyss27x.ansys/patch.aedt correctly loaded. Elapsed time: 0m 0sec\n",
      "PyAEDT INFO: aedt file load time 0.043332815170288086\n",
      "PyAEDT INFO: Linear step sweep Sweep1 has been correctly created\n"
     ]
    },
    {
     "data": {
      "text/plain": [
       "Setup1 : Sweep1"
      ]
     },
     "execution_count": 71,
     "metadata": {},
     "output_type": "execute_result"
    }
   ],
   "source": [
    "setup = hfss.create_setup(**basic)\n",
    "\n",
    "setup.create_linear_step_sweep(**sweep1)"
   ]
  },
  {
   "cell_type": "markdown",
   "id": "260b63e9",
   "metadata": {},
   "source": [
    "## Save and print"
   ]
  },
  {
   "cell_type": "code",
   "execution_count": 72,
   "id": "abcffb87",
   "metadata": {},
   "outputs": [
    {
     "name": "stdout",
     "output_type": "stream",
     "text": [
      "PyAEDT INFO: Project patch Saved correctly\n"
     ]
    },
    {
     "data": {
      "text/plain": [
       "True"
      ]
     },
     "execution_count": 72,
     "metadata": {},
     "output_type": "execute_result"
    }
   ],
   "source": [
    "hfss.save_project()"
   ]
  },
  {
   "cell_type": "code",
   "execution_count": 73,
   "id": "a5c6321d",
   "metadata": {},
   "outputs": [
    {
     "name": "stdout",
     "output_type": "stream",
     "text": [
      "We have created a patch antennausing PyAEDT.\n",
      "\n",
      "The project file is located at \n",
      "'C:/Users/z2538/AppData/Local/Temp/tmp6dyss27x.ansys/patch.aedt'.\n",
      "\n",
      "The HFSS design is named 'patch'\n",
      "and is comprised of 4 objects whose names are:\n",
      "\n",
      "- 'substrate'\n",
      "- 'airbox'\n",
      "- 'tline'\n",
      "- 'wave_port'\n",
      "\n"
     ]
    }
   ],
   "source": [
    "message = \"We have created a patch antenna\"\n",
    "message += \"using PyAEDT.\\n\\nThe project file is \"\n",
    "message += f\"located at \\n'{hfss.project_file}'.\\n\"\n",
    "message += f\"\\nThe HFSS design is named '{hfss.design_name}'\\n\"\n",
    "message += f\"and is comprised of \"\n",
    "message += f\"{len(hfss.modeler.objects)} objects whose names are:\\n\\n\"\n",
    "message += \"\".join([f\"- '{o.name}'\\n\" for _, o in hfss.modeler.objects.items()])\n",
    "print(message)"
   ]
  },
  {
   "cell_type": "markdown",
   "id": "c72ad22e",
   "metadata": {},
   "source": [
    "## Run analysis"
   ]
  },
  {
   "cell_type": "code",
   "execution_count": 74,
   "id": "b460c846",
   "metadata": {},
   "outputs": [
    {
     "name": "stdout",
     "output_type": "stream",
     "text": [
      "PyAEDT INFO: Key Desktop/ActiveDSOConfigurations/HFSS correctly changed.\n",
      "PyAEDT INFO: Solving all design setups.\n",
      "PyAEDT INFO: Key Desktop/ActiveDSOConfigurations/HFSS correctly changed.\n",
      "PyAEDT INFO: Design setup None solved correctly in 0.0h 0.0m 49.0s\n"
     ]
    },
    {
     "data": {
      "text/plain": [
       "True"
      ]
     },
     "execution_count": 74,
     "metadata": {},
     "output_type": "execute_result"
    }
   ],
   "source": [
    "hfss.analyze(cores=NUM_CORES)"
   ]
  },
  {
   "cell_type": "markdown",
   "id": "ee34d4bd",
   "metadata": {},
   "source": [
    "## Postprocessing"
   ]
  },
  {
   "cell_type": "code",
   "execution_count": 75,
   "id": "26f73262",
   "metadata": {},
   "outputs": [
    {
     "name": "stdout",
     "output_type": "stream",
     "text": [
      "PyAEDT INFO: Parsing C:/Users/z2538/AppData/Local/Temp/tmp6dyss27x.ansys/patch.aedt.\n",
      "PyAEDT INFO: File C:/Users/z2538/AppData/Local/Temp/tmp6dyss27x.ansys/patch.aedt correctly loaded. Elapsed time: 0m 0sec\n",
      "PyAEDT INFO: aedt file load time 0.04479622840881348\n",
      "PyAEDT INFO: PostProcessor class has been initialized! Elapsed time: 0m 0sec\n",
      "PyAEDT INFO: PostProcessor class has been initialized! Elapsed time: 0m 0sec\n",
      "PyAEDT INFO: Post class has been initialized! Elapsed time: 0m 0sec\n"
     ]
    }
   ],
   "source": [
    "post = hfss.post\n",
    "\n",
    "s_parameter_expression = 'dB(S(wave_port,wave_port))'\n",
    "\n",
    "report = post.create_report(\n",
    "    expressions=s_parameter_expression,\n",
    "    report_category=\"S Parameters\",  \n",
    "    plot_type=\"Rectangular Plot\",\n",
    "    plot_name=\"S11_dB_Plot\", \n",
    ")"
   ]
  },
  {
   "cell_type": "code",
   "execution_count": 52,
   "id": "351e5141",
   "metadata": {},
   "outputs": [
    {
     "name": "stdout",
     "output_type": "stream",
     "text": [
      "PyAEDT INFO: Desktop has been released and closed.\n"
     ]
    }
   ],
   "source": [
    "hfss.release_desktop()\n",
    "time.sleep(3)"
   ]
  },
  {
   "cell_type": "code",
   "execution_count": 53,
   "id": "9665d652",
   "metadata": {},
   "outputs": [],
   "source": [
    "temp_folder.cleanup()"
   ]
  },
  {
   "cell_type": "markdown",
   "id": "8e7d9384",
   "metadata": {},
   "source": [
    "## Export settings"
   ]
  },
  {
   "cell_type": "code",
   "execution_count": 176,
   "id": "4d483971",
   "metadata": {},
   "outputs": [],
   "source": [
    "import pyaedt\n",
    "\n",
    "def dump_aedt_settings_final(hfss_app, output_file_path):\n",
    "    \"\"\"\n",
    "    连接到一个HFSS App，并将其几何、边界、求解等所有关键配置导出到文本文件。\n",
    "    \"\"\"\n",
    "    try:\n",
    "        with open(output_file_path, 'w', encoding='utf-8') as f:\n",
    "            f.write(\"=\"*60 + \"\\n\")\n",
    "            f.write(f\"PROJECT CONFIGURATION DUMP FOR: {hfss_app.project_name}\\n\")\n",
    "            f.write(f\"DESIGN: {hfss_app.design_name}\\n\")\n",
    "            f.write(\"=\"*60 + \"\\n\\n\")\n",
    "\n",
    "            # --- 1. 导出详细的几何信息 (Geometry Details) ---\n",
    "            f.write(\"-\" * 25 + \" Geometry Details \" + \"-\" * 25 + \"\\n\")\n",
    "            if not hfss_app.modeler.objects:\n",
    "                f.write(\"No geometry objects found.\\n\")\n",
    "            else:\n",
    "                # 按名称排序，确保两个文件中的顺序一致，方便对比\n",
    "                sorted_objects = sorted(hfss_app.modeler.objects.values(), key=lambda o: o.name)\n",
    "                f.write(f\"Total Objects: {len(sorted_objects)}\\n\\n\")\n",
    "                for obj in sorted_objects:\n",
    "                    f.write(f\"Object Name: {obj.name}\\n\")\n",
    "                    f.write(f\"  - Type: {obj.object_type}\\n\")\n",
    "                    f.write(f\"  - Material: {obj.material_name}\\n\")\n",
    "                    # 边界框是最关键的几何信息，包含了位置和尺寸\n",
    "                    # 格式: [Xmin, Ymin, Zmin, Xmax, Ymax, Zmax]\n",
    "                    f.write(f\"  - Bounding Box: {obj.bounding_box}\\n\")\n",
    "                    f.write(f\"  - Vertices: {len(obj.vertices)}, Edges: {len(obj.edges)}, Faces: {len(obj.faces)}\\n\\n\")\n",
    "\n",
    "            # --- 2. 导出边界条件 (Boundaries) ---\n",
    "            f.write(\"-\" * 25 + \" Boundaries \" + \"-\" * 25 + \"\\n\")\n",
    "            if not hfss_app.boundaries:\n",
    "                f.write(\"No boundaries found.\\n\")\n",
    "            else:\n",
    "                sorted_boundaries = sorted(hfss_app.boundaries, key=lambda b: b.name)\n",
    "                for boundary in sorted_boundaries:\n",
    "                    f.write(f\"Boundary Name: {boundary.name}\\n\")\n",
    "                    f.write(f\"  - Type: {boundary.type}\\n\")\n",
    "                    assignment = boundary.props.get('Objects') or boundary.props.get('Faces') or boundary.props.get('Edges')\n",
    "                    f.write(f\"  - Assigned To: {assignment}\\n\\n\")\n",
    "\n",
    "            # --- 3. 导出激励 (Excitations) ---\n",
    "            f.write(\"-\" * 25 + \" Excitations \" + \"-\" * 25 + \"\\n\")\n",
    "            if not hfss_app.excitations:\n",
    "                f.write(\"No excitations found.\\n\")\n",
    "            else:\n",
    "                 sorted_excitations = sorted(hfss_app.excitations)\n",
    "                 for exc_name in sorted_excitations:\n",
    "                    f.write(f\"Excitation Name: {exc_name}\\n\")\n",
    "            f.write(\"\\n\")\n",
    "            \n",
    "            # --- 4. 导出分析设置 (Analysis Setup) ---\n",
    "            f.write(\"-\" * 25 + \" Analysis Setups \" + \"-\" * 25 + \"\\n\")\n",
    "            # (这部分代码和之前一样，为了完整性而保留)\n",
    "            if not hfss_app.setups:\n",
    "                f.write(\"No setups found.\\n\")\n",
    "            else:\n",
    "                sorted_setups = sorted(hfss_app.setups, key=lambda s: s.name)\n",
    "                for setup in sorted_setups:\n",
    "                    f.write(f\"Setup Name: {setup.name}\\n\")\n",
    "                    sorted_props = sorted(setup.props.items())\n",
    "                    for key, value in sorted_props:\n",
    "                        f.write(f\"  - {key}: {value}\\n\")\n",
    "                    f.write(\"\\n\")\n",
    "        \n",
    "        print(f\"包含几何信息的配置已成功导出到: {output_file_path}\")\n",
    "        \n",
    "    except Exception as e:\n",
    "        print(f\"导出配置时发生错误: {e}\")"
   ]
  },
  {
   "cell_type": "code",
   "execution_count": 177,
   "id": "4ae5dfd7",
   "metadata": {},
   "outputs": [
    {
     "name": "stdout",
     "output_type": "stream",
     "text": [
      ">>> 步骤1：正在导出 手动工程 的详细配置...\n",
      "PyAEDT INFO: Python version 3.10.18 | packaged by Anaconda, Inc. | (main, Jun  5 2025, 13:08:55) [MSC v.1929 64 bit (AMD64)].\n",
      "PyAEDT INFO: PyAEDT version 0.18.0.\n",
      "PyAEDT INFO: Returning found Desktop session with PID 44684!\n",
      "PyAEDT INFO: No project is defined. Project patch1 exists and has been read.\n",
      "PyAEDT INFO: Active Design set to HFSSDesign1\n",
      "PyAEDT INFO: Active Design set to HFSSDesign1\n",
      "PyAEDT INFO: Aedt Objects correctly read\n",
      "PyAEDT INFO: Modeler class has been initialized! Elapsed time: 0m 0sec\n",
      "PyAEDT INFO: Parsing design objects. This operation can take time\n",
      "PyAEDT INFO: Refreshing bodies from Object Info\n",
      "PyAEDT INFO: Bodies Info Refreshed Elapsed time: 0m 0sec\n",
      "PyAEDT INFO: 3D Modeler objects parsed. Elapsed time: 0m 0sec\n",
      "PyAEDT INFO: Parsing E:/HFSS/projects/patch1.aedt.\n",
      "PyAEDT INFO: File E:/HFSS/projects/patch1.aedt correctly loaded. Elapsed time: 0m 0sec\n",
      "PyAEDT INFO: aedt file load time 0.04542040824890137\n",
      "包含几何信息的配置已成功导出到: manual_settings_detailed.txt\n",
      ">>> 'manual_settings_detailed.txt' 已生成。\n",
      "\n",
      ">>> 步骤2：请在AEDT中切换到【脚本生成的工程】，然后在这里按Enter键继续...\n",
      ">>> 正在导出 脚本工程 的详细配置...\n",
      "PyAEDT INFO: Python version 3.10.18 | packaged by Anaconda, Inc. | (main, Jun  5 2025, 13:08:55) [MSC v.1929 64 bit (AMD64)].\n",
      "PyAEDT INFO: PyAEDT version 0.18.0.\n",
      "PyAEDT INFO: Returning found Desktop session with PID 44684!\n",
      "PyAEDT INFO: No project is defined. Project patch exists and has been read.\n",
      "PyAEDT INFO: Active Design set to patch\n",
      "PyAEDT INFO: Active Design set to patch\n",
      "PyAEDT INFO: Aedt Objects correctly read\n",
      "PyAEDT INFO: Modeler class has been initialized! Elapsed time: 0m 0sec\n",
      "PyAEDT INFO: Parsing design objects. This operation can take time\n",
      "PyAEDT INFO: Refreshing bodies from Object Info\n",
      "PyAEDT INFO: Bodies Info Refreshed Elapsed time: 0m 0sec\n",
      "PyAEDT INFO: 3D Modeler objects parsed. Elapsed time: 0m 0sec\n",
      "PyAEDT INFO: Parsing C:/Users/z2538/AppData/Local/Temp/tmpemtx2l9g.ansys/patch.aedt.\n",
      "PyAEDT INFO: File C:/Users/z2538/AppData/Local/Temp/tmpemtx2l9g.ansys/patch.aedt correctly loaded. Elapsed time: 0m 0sec\n",
      "PyAEDT INFO: aedt file load time 0.026089906692504883\n",
      "包含几何信息的配置已成功导出到: script_settings_detailed.txt\n",
      ">>> 'script_settings_detailed.txt' 已生成。\n",
      "\n",
      ">>> 步骤3：导出完成！\n",
      "请使用文本对比工具比较 'manual_settings_detailed.txt' 和 'script_settings_detailed.txt'。\n"
     ]
    }
   ],
   "source": [
    "# --- 使用新的“超级导出”函数来对比两个工程 ---\n",
    "\n",
    "# 准备工作：在AEDT中，手动打开【手动创建】的、结果正确的工程。\n",
    "\n",
    "# 1. 导出“手动工程”的配置\n",
    "print(\">>> 步骤1：正在导出 手动工程 的详细配置...\")\n",
    "hfss_manual_app = pyaedt.Hfss(new_desktop=False) \n",
    "dump_aedt_settings_final(hfss_manual_app, \"manual_settings_detailed.txt\")\n",
    "print(\">>> 'manual_settings_detailed.txt' 已生成。\")\n",
    "\n",
    "\n",
    "# 准备工作2：在AEDT中，切换到【脚本生成的】、结果错误的工程。\n",
    "\n",
    "# 2. 导出“脚本工程”的配置\n",
    "print(\"\\n>>> 步骤2：请在AEDT中切换到【脚本生成的工程】，然后在这里按Enter键继续...\")\n",
    "input() \n",
    "\n",
    "print(\">>> 正在导出 脚本工程 的详细配置...\")\n",
    "hfss_script_app = pyaedt.Hfss(new_desktop=False)\n",
    "dump_aedt_settings_final(hfss_script_app, \"script_settings_detailed.txt\")\n",
    "print(\">>> 'script_settings_detailed.txt' 已生成。\")\n",
    "\n",
    "\n",
    "# 3. 进行最终对比\n",
    "print(\"\\n>>> 步骤3：导出完成！\")\n",
    "print(\"请使用文本对比工具比较 'manual_settings_detailed.txt' 和 'script_settings_detailed.txt'。\")"
   ]
  }
 ],
 "metadata": {
  "kernelspec": {
   "display_name": "hfss",
   "language": "python",
   "name": "python3"
  },
  "language_info": {
   "codemirror_mode": {
    "name": "ipython",
    "version": 3
   },
   "file_extension": ".py",
   "mimetype": "text/x-python",
   "name": "python",
   "nbconvert_exporter": "python",
   "pygments_lexer": "ipython3",
   "version": "3.10.18"
  }
 },
 "nbformat": 4,
 "nbformat_minor": 5
}
