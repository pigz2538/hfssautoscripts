{
 "cells": [
  {
   "cell_type": "markdown",
   "id": "8f2de2df",
   "metadata": {},
   "source": [
    "## Setup"
   ]
  },
  {
   "cell_type": "code",
   "execution_count": 2,
   "id": "04333f1f",
   "metadata": {},
   "outputs": [],
   "source": [
    "import os\n",
    "import matplotlib.pyplot as plt\n",
    "import pandas as pd\n",
    "import numpy as np\n",
    "from scipy.spatial import KDTree # 导入我们需要的KDTree\n",
    "\n",
    "import pyvista as pv\n",
    "from shapely.geometry import Polygon, Point\n",
    "from shapely.ops import unary_union\n",
    "\n",
    "import cadquery as cq\n",
    "from cadquery.vis import show\n",
    "\n",
    "pv.set_jupyter_backend('trame')"
   ]
  },
  {
   "cell_type": "code",
   "execution_count": 19,
   "id": "4f1d4919",
   "metadata": {},
   "outputs": [],
   "source": [
    "project_path = \"E:/HFSS/projects/patch1.aedt\"\n",
    "output_dir = \"E:/HFSS/temp/aedt_ml_data/\"\n",
    "\n",
    "design_name = \"HFSSDesign1\"\n",
    "setup_name = \"Setup1\"\n",
    "file_name = \"geometry.step\"\n",
    "\n",
    "geometry_path = os.path.join(output_dir, file_name)\n",
    "s_param_path = os.path.join(output_dir, \"s_parameters.csv\")\n",
    "mesh_csv_path = os.path.join(output_dir, \"mesh_data.csv\")\n",
    "fld_path = os.path.join(output_dir, \"surface_field_export.fld\")\n",
    "stl_path = os.path.join(output_dir, \"output_mesh.stl\")"
   ]
  },
  {
   "cell_type": "markdown",
   "id": "99fe9564",
   "metadata": {},
   "source": [
    "## Define constants"
   ]
  },
  {
   "cell_type": "code",
   "execution_count": 4,
   "id": "72232e82",
   "metadata": {},
   "outputs": [],
   "source": [
    "H = 1.6\n",
    "L0 = 28\n",
    "W0 = 37.26\n",
    "L1 = 17.45\n",
    "W1 = 1\n",
    "L2 = 15\n",
    "W2 = 2.98"
   ]
  },
  {
   "cell_type": "code",
   "execution_count": 5,
   "id": "ddcc76f0",
   "metadata": {},
   "outputs": [],
   "source": [
    "substrate_origin    = [-L0, -W0, 0]\n",
    "substrate_size      = [1.5*L0+L1+L2, 2*W0, H]\n",
    "substrate_material  = 'FR4_epoxy'"
   ]
  },
  {
   "cell_type": "code",
   "execution_count": 6,
   "id": "06f0b4ae",
   "metadata": {},
   "outputs": [],
   "source": [
    "air_origin    = [-L0*0.5-30, -W0*0.5-30, 0]\n",
    "air_size      = [L0+L1+L2+30, W0+60, H+30]\n",
    "air_mateiral  = 'vacuum'"
   ]
  },
  {
   "cell_type": "code",
   "execution_count": 7,
   "id": "44269edd",
   "metadata": {},
   "outputs": [],
   "source": [
    "tline_origin       = [0.5*L0, -0.5*W1, H]\n",
    "tline_size         = [L1, W1]\n",
    "tline_orientation  = 'xy'\n",
    "\n",
    "patch_origin       = [-0.5*L0, -0.5*W0, H]\n",
    "patch_size         = [L0, W0]\n",
    "patch_orientation  = 'xy'\n",
    "\n",
    "ohm50_origin       = [0.5*L0+L1, -0.5*W2, H]\n",
    "ohm50_size         = [L2, W2]\n",
    "ohm50_orientation  = 'xy'\n",
    "\n",
    "wave_port_origin   = [0.5*L0+L1+L2, -4*W2, 0]\n",
    "wave_port_size     = [8*W2, 8*H]\n",
    "wave_port_orientation = 'yz'"
   ]
  },
  {
   "cell_type": "code",
   "execution_count": 8,
   "id": "08722fef",
   "metadata": {},
   "outputs": [],
   "source": [
    "# Convert all dimensions to meters (m) for consistency with Ansys export\n",
    "H, L0, W0, L1, W1, L2, W2 = [d / 1000.0 for d in [H, L0, W0, L1, W1, L2, W2]]\n",
    "\n",
    "# List of geometric objects defining the model's footprint\n",
    "hfss_objects = [\n",
    "    {'origin': [0.5 * L0, -0.5 * W1, H], 'size': [L1, W1]},\n",
    "    {'origin': [-0.5 * L0, -0.5 * W0, H], 'size': [L0, W0]},\n",
    "    {'origin': [0.5 * L0 + L1, -0.5 * W2, H], 'size': [L2, W2]}\n",
    "]"
   ]
  },
  {
   "cell_type": "markdown",
   "id": "4032ec05",
   "metadata": {},
   "source": [
    "## Plot 3D Model"
   ]
  },
  {
   "cell_type": "code",
   "execution_count": 9,
   "id": "af654e6d",
   "metadata": {},
   "outputs": [
    {
     "data": {
      "application/javascript": "\n\nfunction render(data, parent_element, ratio){\n    \n    // Initial setup\n    const renderWindow = vtk.Rendering.Core.vtkRenderWindow.newInstance();\n    const renderer = vtk.Rendering.Core.vtkRenderer.newInstance({ background: [1, 1, 1 ] });\n    renderWindow.addRenderer(renderer);\n        \n    // iterate over all children children\n    for (var el of data){ \n        var trans = el.position;\n        var rot = el.orientation;\n        var rgba = el.color;\n        var shape = el.shape;\n        \n        // load the inline data\n        var reader = vtk.IO.XML.vtkXMLPolyDataReader.newInstance();\n        const textEncoder = new TextEncoder();\n        reader.parseAsArrayBuffer(textEncoder.encode(shape));\n\n        // setup actor,mapper and add\n        const mapper = vtk.Rendering.Core.vtkMapper.newInstance();\n        mapper.setInputConnection(reader.getOutputPort());\n        mapper.setResolveCoincidentTopologyToPolygonOffset();\n        mapper.setResolveCoincidentTopologyPolygonOffsetParameters(0.9,20);\n\n        const actor = vtk.Rendering.Core.vtkActor.newInstance();\n        actor.setMapper(mapper);\n\n        // set color and position\n        actor.getProperty().setColor(rgba.slice(0,3));\n        actor.getProperty().setOpacity(rgba[3]);\n        \n        actor.rotateZ(rot[2]*180/Math.PI);\n        actor.rotateY(rot[1]*180/Math.PI);\n        actor.rotateX(rot[0]*180/Math.PI);\n        \n        actor.setPosition(trans);\n\n        renderer.addActor(actor);\n\n    };\n    \n    renderer.resetCamera();\n    \n    const openglRenderWindow = vtk.Rendering.OpenGL.vtkRenderWindow.newInstance();\n    renderWindow.addView(openglRenderWindow);\n\n    // Add output to the \"parent element\"\n    var container;\n    var dims;\n    \n    if(typeof(parent_element.appendChild) !== \"undefined\"){\n        container = document.createElement(\"div\");\n        parent_element.appendChild(container);\n        dims = parent_element.getBoundingClientRect();\n    }else{\n        container = parent_element.append(\"<div/>\").children(\"div:last-child\").get(0);\n        dims = parent_element.get(0).getBoundingClientRect();\n    };\n\n    openglRenderWindow.setContainer(container);\n    \n    // handle size\n    if (ratio){\n        openglRenderWindow.setSize(dims.width, dims.width*ratio);\n    }else{\n        openglRenderWindow.setSize(dims.width, dims.height);\n    };\n    \n    // Interaction setup\n    const interact_style = vtk.Interaction.Style.vtkInteractorStyleManipulator.newInstance();\n\n    const manips = {\n        rot: vtk.Interaction.Manipulators.vtkMouseCameraTrackballRotateManipulator.newInstance(),\n        pan: vtk.Interaction.Manipulators.vtkMouseCameraTrackballPanManipulator.newInstance(),\n        zoom1: vtk.Interaction.Manipulators.vtkMouseCameraTrackballZoomManipulator.newInstance(),\n        zoom2: vtk.Interaction.Manipulators.vtkMouseCameraTrackballZoomManipulator.newInstance(),\n        roll: vtk.Interaction.Manipulators.vtkMouseCameraTrackballRollManipulator.newInstance(),\n    };\n\n    manips.zoom1.setControl(true);\n    manips.zoom2.setScrollEnabled(true);\n    manips.roll.setShift(true);\n    manips.pan.setButton(2);\n\n    for (var k in manips){\n        interact_style.addMouseManipulator(manips[k]);\n    };\n\n    const interactor = vtk.Rendering.Core.vtkRenderWindowInteractor.newInstance();\n    interactor.setView(openglRenderWindow);\n    interactor.initialize();\n    interactor.bindEvents(container);\n    interactor.setInteractorStyle(interact_style);\n\n    // Orientation marker\n\n    const axes = vtk.Rendering.Core.vtkAnnotatedCubeActor.newInstance();\n    axes.setXPlusFaceProperty({text: '+X'});\n    axes.setXMinusFaceProperty({text: '-X'});\n    axes.setYPlusFaceProperty({text: '+Y'});\n    axes.setYMinusFaceProperty({text: '-Y'});\n    axes.setZPlusFaceProperty({text: '+Z'});\n    axes.setZMinusFaceProperty({text: '-Z'});\n\n    const orientationWidget = vtk.Interaction.Widgets.vtkOrientationMarkerWidget.newInstance({\n        actor: axes,\n        interactor: interactor });\n    orientationWidget.setEnabled(true);\n    orientationWidget.setViewportCorner(vtk.Interaction.Widgets.vtkOrientationMarkerWidget.Corners.BOTTOM_LEFT);\n    orientationWidget.setViewportSize(0.2);\n\n};\n\n\nfunction load_and_render(parent_element)\n{\nnew Promise(\n  function(resolve, reject)\n  {\n    if (typeof(require) !== \"undefined\" ){\n        require.config({\n         \"paths\": {\"vtk\": \"https://unpkg.com/vtk\"},\n        });\n        require([\"vtk\"], resolve, reject);\n    } else if ( typeof(vtk) === \"undefined\" ){\n        var script = document.createElement(\"script\");\n    \tscript.onload = resolve;\n    \tscript.onerror = reject;\n    \tscript.src = \"https://unpkg.com/vtk.js\";\n    \tdocument.head.appendChild(script);\n    } else { resolve() };\n }\n).then(() => {\n    var data = [{\"shape\": \"<?xml version=\\\"1.0\\\"?>\\n<VTKFile type=\\\"PolyData\\\" version=\\\"0.1\\\" byte_order=\\\"LittleEndian\\\" header_type=\\\"UInt32\\\" compressor=\\\"vtkZLibDataCompressor\\\">\\n  <PolyData>\\n    <Piece NumberOfPoints=\\\"304\\\"                  NumberOfVerts=\\\"32\\\"                   NumberOfLines=\\\"104\\\"                  NumberOfStrips=\\\"0\\\"                    NumberOfPolys=\\\"36\\\"                  >\\n      <PointData Normals=\\\"Normals\\\">\\n        <DataArray type=\\\"Float32\\\" Name=\\\"Normals\\\" NumberOfComponents=\\\"3\\\" format=\\\"appended\\\" RangeMin=\\\"0\\\"                    RangeMax=\\\"1\\\"                    offset=\\\"0\\\"                   />\\n      </PointData>\\n      <CellData Normals=\\\"Normals\\\">\\n        <DataArray type=\\\"Int64\\\" IdType=\\\"1\\\" Name=\\\"SUBSHAPE_IDS\\\" format=\\\"appended\\\" RangeMin=\\\"6\\\"                    RangeMax=\\\"110\\\"                  offset=\\\"108\\\"                 />\\n        <DataArray type=\\\"Int64\\\" IdType=\\\"1\\\" Name=\\\"MESH_TYPES\\\" format=\\\"appended\\\" RangeMin=\\\"2\\\"                    RangeMax=\\\"7\\\"                    offset=\\\"384\\\"                 />\\n        <DataArray type=\\\"Float32\\\" Name=\\\"Normals\\\" NumberOfComponents=\\\"3\\\" format=\\\"appended\\\" RangeMin=\\\"1\\\"                    RangeMax=\\\"1\\\"                    offset=\\\"456\\\"                 />\\n      </CellData>\\n      <Points>\\n        <DataArray type=\\\"Float32\\\" Name=\\\"Points\\\" NumberOfComponents=\\\"3\\\" format=\\\"appended\\\" RangeMin=\\\"14.098315505\\\"         RangeMax=\\\"74.30369842\\\"          offset=\\\"564\\\"                 />\\n      </Points>\\n      <Verts>\\n        <DataArray type=\\\"Int64\\\" Name=\\\"connectivity\\\" format=\\\"appended\\\" RangeMin=\\\"\\\"                     RangeMax=\\\"\\\"                     offset=\\\"1100\\\"                />\\n        <DataArray type=\\\"Int64\\\" Name=\\\"offsets\\\" format=\\\"appended\\\" RangeMin=\\\"\\\"                     RangeMax=\\\"\\\"                     offset=\\\"1212\\\"                />\\n      </Verts>\\n      <Lines>\\n        <DataArray type=\\\"Int64\\\" Name=\\\"connectivity\\\" format=\\\"appended\\\" RangeMin=\\\"\\\"                     RangeMax=\\\"\\\"                     offset=\\\"1324\\\"                />\\n        <DataArray type=\\\"Int64\\\" Name=\\\"offsets\\\" format=\\\"appended\\\" RangeMin=\\\"\\\"                     RangeMax=\\\"\\\"                     offset=\\\"1832\\\"                />\\n      </Lines>\\n      <Strips>\\n        <DataArray type=\\\"Int64\\\" Name=\\\"connectivity\\\" format=\\\"appended\\\" RangeMin=\\\"\\\"                     RangeMax=\\\"\\\"                     offset=\\\"2132\\\"                />\\n        <DataArray type=\\\"Int64\\\" Name=\\\"offsets\\\" format=\\\"appended\\\" RangeMin=\\\"\\\"                     RangeMax=\\\"\\\"                     offset=\\\"2148\\\"                />\\n      </Strips>\\n      <Polys>\\n        <DataArray type=\\\"Int64\\\" Name=\\\"connectivity\\\" format=\\\"appended\\\" RangeMin=\\\"\\\"                     RangeMax=\\\"\\\"                     offset=\\\"2164\\\"                />\\n        <DataArray type=\\\"Int64\\\" Name=\\\"offsets\\\" format=\\\"appended\\\" RangeMin=\\\"\\\"                     RangeMax=\\\"\\\"                     offset=\\\"2416\\\"                />\\n      </Polys>\\n    </Piece>\\n  </PolyData>\\n  <AppendedData encoding=\\\"base64\\\">\\n   _AQAAAACAAABADgAAPQAAAA==eJxjYBgFo2AUjIJRMApGwSgYBaNgFJAOGuyJZzfsRxIjwCZFLTluIcVsEJscs0l102j4DBybND0AYCI7wQ==AQAAAACAAABgBQAAvQAAAA==eJy10bcvBAAAxWGT6ESNEiUMgtOiRokSBsE5vdcIh/P/jwbf/qZ7y7e/X33N/xrYxBZ2sIt9HOIkpzjNWS5ymevc5hGPecJTnvOS17zlPR/5zFd+ssxvVljHRjazle3sZDd72c9BDnOUEyxwhnNc4BJXuMYNbnGHezxkkSWe8YJXvOEdH/jEF77xg1/84S9rg23BnuBAcCQ4FhwPzgdXg5vB3eB+8KDKvgdT79Qz9Uo90t/pz2r/9Qf8xyV3AQAAAACAAABgBQAAIgAAAA==eJxjYoAAphFKsw5xmmWA6YH2/0inBzr+2UdpvDQAIhkDJQ==AQAAAACAAAAQCAAAPwAAAA==eJxjYGiwZ4CDUfYoe5Q9yh5lj7KpxUYRa0BlN+xHEtuPSqOzsdrRgMDo+oake4hhN+BgE6MGiY3dDgA0F47VAQAAAACAAABADgAAgAEAAA==eJztVzFSwzAQVJ2eOl+gpUg8upqKF1DlJzyBgryEKoxU23+g4hNQYMcW2dzcSpZTBGZwtXOzujvrbnfsrr2Tzeomdm3bOPceEu7GuEBcIB7d8Rn5gGVA6WzC6yfpc355525jwlNcIC4Qn3KOfMCY84j3L5/+4fXQDL0NeLf72I49P57hzerZTzgoHIAT4OwBcv7gvtZbugeFmxPe9nnufcKp5x57xIlTun+DI2RGjBNhLme1cI46bsxaEGMtvQ96B3TPZGfMs6X9MThCdoxxIquFe6jjxq4KYqyl9xl32HgX0TmNPrP7n9MC0UVOI5ZeqHYsHeU0ZemroDWiu9M9zNQj1aalU4XDNfXL6i7UNeXrfmp9oMQnd3Wxb1T4GDtb9KVcn3pGuTlew99Y3YW+R/m6n1qfLPHJXV3sqxU+z85m85f61DNic/z3/9/v/zXfY8zDEc/xZMQzPDbrnzV+aPne0u//Go8i/kM9R/tJwUOy/lCjd63rv/7/8g0h/5f8AQAAAACAAAAAAQAAQAAAAA==eJwtxbUBgwAAADDcrUVa/P8vGUiWBMErdOTYiVNnzl24dOXajVt37j34469HT569+Oe/V2/effj05dsPq4AB8Q==AQAAAACAAAAAAQAAQgAAAA==eJwtxUcCQwAAADB7F63Rosb/X+kguSQMHpFjJ06dOXfh0pVrN365defeb388ePTk2V//vHj15r93Hz59+Qa8AAIRAQAAAACAAACABgAAawEAAA==eJwtxddCCAAAAECfguyRkEKRjOy9V2ZFWjbZChnJCsneZWcnkZGdlU2ykqxf8ODu5WrX+q+O6zrA9VzfDdzQjdzYTdzUzdzcgW7hILd0K7d2sNs4xKFu63Zu7zCHu4M7OsKdHOnO7uKu7uYod3cP93Qv93Yf93U/9/cAD/QgD/YQD/UwD/cIj/Qoj/YYj3W0x3m8J3iiJ3myYxzrOE/xVMd7mhOc6CQnO8XTPcMzPcuzPcdzPc/zneoFXuhFXuwlXuplXu40p3uFV3qVM7zaa7zW65zp9c7yBm/0Jm/2Fmd7q7d5u3O8w7ne6V3e7T3e633e7wM+6EM+7CM+6jzn+5iP+4RP+pRP+4wLfNbnfN4XfNGXfNmFvuIiX3Wxr/m6S3zDN33Lt13qO77re77vB37oRy7zYz/xUz/zc5f7hV/6lV/7jd/6nd/7gyv80ZX+5M/+4q/+5ip/d7V/uMY//cu//cd//Q8SdG4ZAQAAAACAAABAAwAAzgAAAA==eJwtxdFGAwAAAMDJzCSZJEmSTJIkmSQzmUkyM0kySZIkSZJkkiRJMkkmSZIkSTJJkiRJMtkn9dDdy1UF/gUdctjVrnGtI65zvRvc6CY3u8WtbnPU7e5wp7vc7R73OuY+93vAcSc86KRTHvKwR5x2xlmPeszjnnDOk57ytGc86znPe8GLXvKyV7zqNa877w1vesvb3vGu97zvAxd86CMfu+gTn/rM577wpa987Rvf+s73fnDJj37ys1/86je/+8Of/vK3f1z2ryv+Ax+BKqk=AAAAAACAAAAAAAAAAAAAAACAAAAAAAAAAQAAAACAAABgAwAAqwAAAA==eJxdzMUWwlAQBFGCu7sTPEH+/6+A4L6gZkGzuWeqHwlCv98ed3jAQPoRT3iWbvcF73jFm/SH7B984gvfsluPOD8dDDn/3e4wxjCOCel2RzGNKUxKz8iexRzmpdtdwDIWsSS9Insdq1iT3pC9gy1sSre7jT3s40C63V2c4xRn6OJEdldu+/9Cdusj6fZuLN+33ZN3S/RxKN/15b0nfST7Ble4lr6V/Qsh/h/nAQAAAACAAAAgAQAAVgAAAA==eJwtxcEGgwAAANARI2LEiIgYETHGiIgYI0aMiBEjov8/d+i9ywtOh7NDR7449tWJU2fOfXPh0pXvfvjp2o1bd3757d4fD/569OSfZ/+9ePXmHRgtB88=\\n  </AppendedData>\\n</VTKFile>\\n\", \"color\": [1, 0.8, 0, 1], \"position\": [0, 0, 0], \"orientation\": [0, 0, 0]}];\n    render(data, parent_element, 0.5);\n});\n}\n\nload_and_render(element);\n",
      "text/plain": [
       "<cadquery.cq.Workplane at 0x26f13183830>"
      ]
     },
     "execution_count": 9,
     "metadata": {},
     "output_type": "execute_result"
    }
   ],
   "source": [
    "imported_model = cq.importers.importStep(geometry_path)\n",
    "imported_model"
   ]
  },
  {
   "cell_type": "markdown",
   "id": "11c4caca",
   "metadata": {},
   "source": [
    "## Plot S-Parameters"
   ]
  },
  {
   "cell_type": "code",
   "execution_count": 10,
   "id": "b6a41115",
   "metadata": {},
   "outputs": [
    {
     "data": {
      "image/png": "[encoded data removed]",
      "text/plain": [
       "<Figure size 1000x600 with 1 Axes>"
      ]
     },
     "metadata": {},
     "output_type": "display_data"
    }
   ],
   "source": [
    "s_param_df = pd.read_csv(s_param_path)\n",
    "\n",
    "plt.figure(figsize=(10, 6))\n",
    "plt.plot(s_param_df.iloc[:, 7], s_param_df.iloc[:, 8])\n",
    "plt.title('S11 Parameter from Exported CSV')\n",
    "plt.xlabel(s_param_df.columns[7])\n",
    "plt.ylabel(s_param_df.columns[8])\n",
    "plt.grid(True)\n",
    "plt.show()"
   ]
  },
  {
   "cell_type": "markdown",
   "id": "3c6940ff",
   "metadata": {},
   "source": [
    "## Plot and Save Mesh"
   ]
  },
  {
   "cell_type": "markdown",
   "id": "d4450687",
   "metadata": {},
   "source": [
    "Processes a 2D mesh point cloud exported from Ansys HFSS, cleans geometric artifacts by filtering against a precise, user-defined boundary, and provides functions for 3D visualization and STL file export."
   ]
  },
  {
   "cell_type": "code",
   "execution_count": 11,
   "id": "5bd339bd",
   "metadata": {},
   "outputs": [],
   "source": [
    "def create_boundary_from_corners(objects):\n",
    "    \"\"\"\n",
    "    Creates a unified Shapely polygon from a list of rectangle definitions.\n",
    "\n",
    "    Args:\n",
    "        objects (list): A list of dictionaries, where each dictionary defines a\n",
    "                        rectangle with 'origin' (bottom-left corner) and\n",
    "                        'size' (length, width).\n",
    "\n",
    "    Returns:\n",
    "        shapely.geometry.BaseGeometry: A single Polygon or MultiPolygon object\n",
    "                                       representing the union of all rectangles.\n",
    "    \"\"\"\n",
    "    polygons = []\n",
    "    for obj in objects:\n",
    "        # Assumes 'origin' is the bottom-left corner of the rectangle\n",
    "        x_start, y_start = obj['origin'][0], obj['origin'][1]\n",
    "        length, width = obj['size'][0], obj['size'][1]\n",
    "        \n",
    "        # Calculate the four corner points of the rectangle\n",
    "        p1 = (x_start, y_start)\n",
    "        p2 = (x_start + length, y_start)\n",
    "        p3 = (x_start + length, y_start + width)\n",
    "        p4 = (x_start, y_start + width)\n",
    "        polygons.append(Polygon([p1, p2, p3, p4]))\n",
    "        \n",
    "    return unary_union(polygons)\n"
   ]
  },
  {
   "cell_type": "code",
   "execution_count": 12,
   "id": "a9590f3b",
   "metadata": {},
   "outputs": [],
   "source": [
    "data_start_line = 0\n",
    "with open(fld_path, 'r') as f:\n",
    "    for i, line in enumerate(f):\n",
    "        if line.strip() and (line.strip()[0].isdigit() or line.strip().startswith('-')):\n",
    "            data_start_line = i\n",
    "            break"
   ]
  },
  {
   "cell_type": "code",
   "execution_count": 13,
   "id": "0ed73df5",
   "metadata": {},
   "outputs": [
    {
     "data": {
      "application/vnd.microsoft.datawrangler.viewer.v0+json": {
       "columns": [
        {
         "name": "index",
         "rawType": "int64",
         "type": "integer"
        },
        {
         "name": "X",
         "rawType": "float64",
         "type": "float"
        },
        {
         "name": "Y",
         "rawType": "float64",
         "type": "float"
        },
        {
         "name": "Z",
         "rawType": "float64",
         "type": "float"
        },
        {
         "name": "Mag_E",
         "rawType": "float64",
         "type": "float"
        }
       ],
       "ref": "efe6fdec-0f0e-409f-a1c9-4f5709eceb6d",
       "rows": [
        [
         "0",
         "0.046450000000000005",
         "-0.0005441183564066887",
         "0.0016",
         "3124.9197919628195"
        ],
        [
         "1",
         "0.04547472106795592",
         "-0.0010170591782033445",
         "0.0016",
         "3664.890869140621"
        ],
        [
         "2",
         "0.046450000000000005",
         "-3.558877503533674e-05",
         "0.0016",
         "2914.127572114085"
        ],
        [
         "3",
         "0.044499442135911824",
         "-0.00149",
         "0.0016",
         "7355.145362254382"
        ],
        [
         "4",
         "0.04547472106795592",
         "-0.0005085295968319924",
         "0.0016",
         "3422.815185546872"
        ],
        [
         "5",
         "0.046450000000000005",
         "0.0004729408063360152",
         "0.0016",
         "2889.595589009751"
        ],
        [
         "6",
         "0.03427859303831659",
         "0.00149",
         "0.0016",
         "3377.4980441494777"
        ],
        [
         "7",
         "0.03479082688387099",
         "0.0",
         "0.0016",
         "2153.868652343748"
        ],
        [
         "8",
         "0.03402742527696338",
         "0.0",
         "0.0016",
         "1896.427848019974"
        ],
        [
         "9",
         "0.035303060729425385",
         "-0.00149",
         "0.0016",
         "4627.2581700738165"
        ],
        [
         "10",
         "0.034539659122517774",
         "-0.00149",
         "0.0016",
         "4217.7853209101895"
        ],
        [
         "11",
         "0.03377625751561017",
         "-0.00149",
         "0.0016",
         "3161.819186231855"
        ],
        [
         "12",
         "0.046450000000000005",
         "0.0004729408063360152",
         "0.0016",
         "2889.595589009751"
        ],
        [
         "13",
         "0.04547472106795592",
         "-0.0005085295968319924",
         "0.0016",
         "3422.815185546872"
        ],
        [
         "14",
         "0.04554820735681024",
         "0.0009814704031680078",
         "0.0016",
         "3736.759914362375"
        ],
        [
         "15",
         "0.044499442135911824",
         "-0.00149",
         "0.0016",
         "7355.145362254382"
        ],
        [
         "16",
         "0.04457292842476615",
         "0.0",
         "0.0016",
         "3443.3982916861823"
        ],
        [
         "17",
         "0.04464641471362047",
         "0.00149",
         "0.0016",
         "7846.074123798731"
        ],
        [
         "18",
         "0.041967809179068734",
         "-0.00149",
         "0.0016",
         "8452.808586815845"
        ],
        [
         "19",
         "0.041264238483583925",
         "-0.00149",
         "0.0016",
         "10898.196732882365"
        ],
        [
         "20",
         "0.04155570198778666",
         "0.0",
         "0.0016",
         "3280.154103994968"
        ],
        [
         "21",
         "0.04056066778809912",
         "-0.00149",
         "0.0016",
         "9277.570563572624"
        ],
        [
         "22",
         "0.04085213129230185",
         "0.0",
         "0.0016",
         "3328.9001464843686"
        ],
        [
         "23",
         "0.041143594796504576",
         "0.00149",
         "0.0016",
         "6758.105278050351"
        ],
        [
         "24",
         "0.043374989627756634",
         "-0.00149",
         "0.0016",
         "6503.748973005866"
        ],
        [
         "25",
         "0.04267139940341269",
         "-0.00149",
         "0.0016",
         "8914.617327925984"
        ],
        [
         "26",
         "0.04313091810646835",
         "0.0",
         "0.0016",
         "3361.068240233325"
        ],
        [
         "27",
         "0.041967809179068734",
         "-0.00149",
         "0.0016",
         "8452.808586815845"
        ],
        [
         "28",
         "0.04242732788212441",
         "0.0",
         "0.0016",
         "3367.0595703124945"
        ],
        [
         "29",
         "0.04288684658518008",
         "0.00149",
         "0.0016",
         "7255.072573249736"
        ],
        [
         "30",
         "-0.006668561831915977",
         "-0.01863",
         "0.0016",
         "6592.091839148891"
        ],
        [
         "31",
         "-0.007455417526567776",
         "-0.01726713601165819",
         "0.0016",
         "2566.129638671872"
        ],
        [
         "32",
         "-0.005888708067815916",
         "-0.01759883210116639",
         "0.0016",
         "2789.1231098429166"
        ],
        [
         "33",
         "-0.008242273221219575",
         "-0.015904272023316384",
         "0.0016",
         "1452.0568638598334"
        ],
        [
         "34",
         "-0.006675563762467715",
         "-0.01623596811282458",
         "0.0016",
         "1280.9300351121897"
        ],
        [
         "35",
         "-0.005108854303715853",
         "-0.01656766420233278",
         "0.0016",
         "1072.5030046397928"
        ],
        [
         "36",
         "-0.003501137871617909",
         "-0.01863",
         "0.0016",
         "4466.4957040198615"
        ],
        [
         "37",
         "-0.004304996087666881",
         "-0.01759883210116639",
         "0.0016",
         "1757.5584716796857"
        ],
        [
         "38",
         "-0.0029301293823235717",
         "-0.017589426341641512",
         "0.0016",
         "1339.698608398436"
        ],
        [
         "39",
         "-0.005108854303715853",
         "-0.01656766420233278",
         "0.0016",
         "1072.5030046397928"
        ],
        [
         "40",
         "-0.003733987598372543",
         "-0.0165582584428079",
         "0.0016",
         "676.1994126095874"
        ],
        [
         "41",
         "-0.0023591208930292327",
         "-0.016548852683283023",
         "0.0016",
         "470.83195532325"
        ],
        [
         "42",
         "0.014000000000000002",
         "-0.00045000000000000015",
         "0.0016",
         "4635.406103458628"
        ],
        [
         "43",
         "0.01313721176190836",
         "0.0004238290005926628",
         "0.0016",
         "2450.0347518424514"
        ],
        [
         "44",
         "0.014000000000000002",
         "0.0",
         "0.0016",
         "3877.5737304687464"
        ],
        [
         "45",
         "0.012274423523816715",
         "0.001297658001185326",
         "0.0016",
         "1842.43925120908"
        ],
        [
         "46",
         "0.01313721176190836",
         "0.0008738290005926631",
         "0.0016",
         "2738.0710449218727"
        ],
        [
         "47",
         "0.014000000000000002",
         "0.00045000000000000015",
         "0.0016",
         "5006.734614176377"
        ],
        [
         "48",
         "0.014000000000000002",
         "-0.00045000000000000015",
         "0.0016",
         "4635.406103458628"
        ],
        [
         "49",
         "0.013073371926954928",
         "-0.0011150401961456016",
         "0.0016",
         "2544.2255859374973"
        ]
       ],
       "shape": {
        "columns": 4,
        "rows": 3804
       }
      },
      "text/html": [
       "<div>\n",
       "<style scoped>\n",
       "    .dataframe tbody tr th:only-of-type {\n",
       "        vertical-align: middle;\n",
       "    }\n",
       "\n",
       "    .dataframe tbody tr th {\n",
       "        vertical-align: top;\n",
       "    }\n",
       "\n",
       "    .dataframe thead th {\n",
       "        text-align: right;\n",
       "    }\n",
       "</style>\n",
       "<table border=\"1\" class=\"dataframe\">\n",
       "  <thead>\n",
       "    <tr style=\"text-align: right;\">\n",
       "      <th></th>\n",
       "      <th>X</th>\n",
       "      <th>Y</th>\n",
       "      <th>Z</th>\n",
       "      <th>Mag_E</th>\n",
       "    </tr>\n",
       "  </thead>\n",
       "  <tbody>\n",
       "    <tr>\n",
       "      <th>0</th>\n",
       "      <td>0.046450</td>\n",
       "      <td>-0.000544</td>\n",
       "      <td>0.0016</td>\n",
       "      <td>3124.919792</td>\n",
       "    </tr>\n",
       "    <tr>\n",
       "      <th>1</th>\n",
       "      <td>0.045475</td>\n",
       "      <td>-0.001017</td>\n",
       "      <td>0.0016</td>\n",
       "      <td>3664.890869</td>\n",
       "    </tr>\n",
       "    <tr>\n",
       "      <th>2</th>\n",
       "      <td>0.046450</td>\n",
       "      <td>-0.000036</td>\n",
       "      <td>0.0016</td>\n",
       "      <td>2914.127572</td>\n",
       "    </tr>\n",
       "    <tr>\n",
       "      <th>3</th>\n",
       "      <td>0.044499</td>\n",
       "      <td>-0.001490</td>\n",
       "      <td>0.0016</td>\n",
       "      <td>7355.145362</td>\n",
       "    </tr>\n",
       "    <tr>\n",
       "      <th>4</th>\n",
       "      <td>0.045475</td>\n",
       "      <td>-0.000509</td>\n",
       "      <td>0.0016</td>\n",
       "      <td>3422.815186</td>\n",
       "    </tr>\n",
       "    <tr>\n",
       "      <th>...</th>\n",
       "      <td>...</td>\n",
       "      <td>...</td>\n",
       "      <td>...</td>\n",
       "      <td>...</td>\n",
       "    </tr>\n",
       "    <tr>\n",
       "      <th>3799</th>\n",
       "      <td>0.010870</td>\n",
       "      <td>-0.013592</td>\n",
       "      <td>0.0016</td>\n",
       "      <td>1632.504342</td>\n",
       "    </tr>\n",
       "    <tr>\n",
       "      <th>3800</th>\n",
       "      <td>0.009722</td>\n",
       "      <td>-0.013694</td>\n",
       "      <td>0.0016</td>\n",
       "      <td>1366.640747</td>\n",
       "    </tr>\n",
       "    <tr>\n",
       "      <th>3801</th>\n",
       "      <td>0.011409</td>\n",
       "      <td>-0.014454</td>\n",
       "      <td>0.0016</td>\n",
       "      <td>1880.900829</td>\n",
       "    </tr>\n",
       "    <tr>\n",
       "      <th>3802</th>\n",
       "      <td>0.010261</td>\n",
       "      <td>-0.014556</td>\n",
       "      <td>0.0016</td>\n",
       "      <td>1636.408936</td>\n",
       "    </tr>\n",
       "    <tr>\n",
       "      <th>3803</th>\n",
       "      <td>0.009112</td>\n",
       "      <td>-0.014658</td>\n",
       "      <td>0.0016</td>\n",
       "      <td>1324.057684</td>\n",
       "    </tr>\n",
       "  </tbody>\n",
       "</table>\n",
       "<p>3804 rows × 4 columns</p>\n",
       "</div>"
      ],
      "text/plain": [
       "             X         Y       Z        Mag_E\n",
       "0     0.046450 -0.000544  0.0016  3124.919792\n",
       "1     0.045475 -0.001017  0.0016  3664.890869\n",
       "2     0.046450 -0.000036  0.0016  2914.127572\n",
       "3     0.044499 -0.001490  0.0016  7355.145362\n",
       "4     0.045475 -0.000509  0.0016  3422.815186\n",
       "...        ...       ...     ...          ...\n",
       "3799  0.010870 -0.013592  0.0016  1632.504342\n",
       "3800  0.009722 -0.013694  0.0016  1366.640747\n",
       "3801  0.011409 -0.014454  0.0016  1880.900829\n",
       "3802  0.010261 -0.014556  0.0016  1636.408936\n",
       "3803  0.009112 -0.014658  0.0016  1324.057684\n",
       "\n",
       "[3804 rows x 4 columns]"
      ]
     },
     "execution_count": 13,
     "metadata": {},
     "output_type": "execute_result"
    }
   ],
   "source": [
    "df = pd.read_csv(\n",
    "    fld_path,\n",
    "    header=None,       \n",
    "    skiprows=data_start_line, \n",
    "    sep=' ',\n",
    "    names=['X', 'Y', 'Z', 'Mag_E']\n",
    ")\n",
    "df"
   ]
  },
  {
   "cell_type": "code",
   "execution_count": 14,
   "id": "ae16a5b0",
   "metadata": {},
   "outputs": [],
   "source": [
    "points = df[['X', 'Y', 'Z']].values\n",
    "field_values = df['Mag_E'].values\n",
    "\n",
    "cloud = pv.PolyData(points)\n",
    "cloud['field_value'] = field_values\n",
    "\n",
    "initial_mesh = cloud.delaunay_2d()\n",
    "model_boundary = create_boundary_from_corners(hfss_objects)"
   ]
  },
  {
   "cell_type": "markdown",
   "id": "0455a2c4",
   "metadata": {},
   "source": [
    " Filter Mesh based on Geometric Boundary "
   ]
  },
  {
   "cell_type": "code",
   "execution_count": 15,
   "id": "21ceceb5",
   "metadata": {},
   "outputs": [],
   "source": [
    "good_cells_list = []\n",
    "points_array = initial_mesh.points\n",
    "faces_flat_array = initial_mesh.faces\n",
    "i = 0\n",
    "while i < len(faces_flat_array):\n",
    "    num_points_in_cell = faces_flat_array[i]\n",
    "    if num_points_in_cell == 3:\n",
    "        p_indices = faces_flat_array[i + 1 : i + 4]\n",
    "        centroid = np.mean(points_array[p_indices], axis=0)\n",
    "        \n",
    "        # Keep cell only if its centroid is inside the true boundary\n",
    "        if model_boundary.contains(Point(centroid[0], centroid[1])):\n",
    "            good_cells_list.append(faces_flat_array[i : i + 4])\n",
    "    i += num_points_in_cell + 1\n",
    "\n",
    "if not good_cells_list:\n",
    "    raise RuntimeError(\"No cells were found inside the defined boundary.\")"
   ]
  },
  {
   "cell_type": "markdown",
   "id": "f6be819d",
   "metadata": {},
   "source": [
    "Reconstruct Final Mesh and Map Data"
   ]
  },
  {
   "cell_type": "code",
   "execution_count": 17,
   "id": "880e8f9c",
   "metadata": {},
   "outputs": [],
   "source": [
    "new_faces_array = np.array(good_cells_list).flatten()\n",
    "clean_mesh = pv.PolyData(initial_mesh.points, faces=new_faces_array)\n",
    "clean_mesh = clean_mesh.extract_largest()\n",
    "\n",
    "# Use KDTree to correctly map scalar values from the original cloud\n",
    "kdtree = KDTree(cloud.points)\n",
    "distances, closest_points_indices = kdtree.query(clean_mesh.points)\n",
    "clean_mesh['field_value'] = cloud['field_value'][closest_points_indices]\n",
    "mesh = clean_mesh"
   ]
  },
  {
   "cell_type": "markdown",
   "id": "a3e6c33e",
   "metadata": {},
   "source": [
    "### Final Plot and Save"
   ]
  },
  {
   "cell_type": "code",
   "execution_count": 20,
   "id": "7501dfca",
   "metadata": {},
   "outputs": [
    {
     "data": {
      "application/vnd.jupyter.widget-view+json": {
       "model_id": "36cc8df7581949c3828e0a5df601998a",
       "version_major": 2,
       "version_minor": 0
      },
      "text/plain": [
       "Widget(value='<iframe src=\"http://localhost:2789/index.html?ui=P_0x26f15798fb0_0&reconnect=auto\" class=\"pyvist…"
      ]
     },
     "metadata": {},
     "output_type": "display_data"
    }
   ],
   "source": [
    "# Save the clean mesh to a file\n",
    "mesh.save(stl_path)\n",
    "\n",
    "# Plot the mesh\n",
    "plotter = pv.Plotter(notebook=True)\n",
    "plotter.add_mesh(mesh, color='lightblue', show_edges=True)\n",
    "plotter.show_axes()\n",
    "plotter.show()"
   ]
  },
  {
   "cell_type": "markdown",
   "id": "9bdacbec",
   "metadata": {},
   "source": [
    "## Plot E Field"
   ]
  },
  {
   "cell_type": "code",
   "execution_count": 26,
   "id": "eadc528c",
   "metadata": {},
   "outputs": [
    {
     "data": {
      "application/vnd.jupyter.widget-view+json": {
       "model_id": "6508f7180f494fba9b3280706e501e07",
       "version_major": 2,
       "version_minor": 0
      },
      "text/plain": [
       "Widget(value='<iframe src=\"http://localhost:2789/index.html?ui=P_0x26f179a5610_6&reconnect=auto\" class=\"pyvist…"
      ]
     },
     "metadata": {},
     "output_type": "display_data"
    }
   ],
   "source": [
    "plotter = pv.Plotter(notebook=True)\n",
    "plotter.add_mesh(\n",
    "        mesh, \n",
    "        scalars='field_value', \n",
    "        cmap='viridis', \n",
    "        show_edges=True,\n",
    "        scalar_bar_args={'title': 'Mag_E (V/m)'}\n",
    "    )\n",
    "plotter.show_axes()\n",
    "plotter.show()"
   ]
  }
 ],
 "metadata": {
  "kernelspec": {
   "display_name": "hfssplot",
   "language": "python",
   "name": "python3"
  },
  "language_info": {
   "codemirror_mode": {
    "name": "ipython",
    "version": 3
   },
   "file_extension": ".py",
   "mimetype": "text/x-python",
   "name": "python",
   "nbconvert_exporter": "python",
   "pygments_lexer": "ipython3",
   "version": "3.9.21"
  }
 },
 "nbformat": 4,
 "nbformat_minor": 5
}
